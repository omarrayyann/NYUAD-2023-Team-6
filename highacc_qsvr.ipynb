{
 "cells": [
  {
   "cell_type": "code",
   "execution_count": 38,
   "id": "761a931e-2f30-4f8f-8dcd-b693650d38f1",
   "metadata": {},
   "outputs": [],
   "source": [
    "from sklearn.datasets import make_blobs\n",
    "import pandas as pd\n",
    "import numpy as np\n",
    "import seaborn as sns\n",
    "import matplotlib.pyplot as plt\n",
    "import numpy as np\n",
    "import pandas as pd\n",
    "import matplotlib.pyplot as plt\n",
    "from scipy import stats\n",
    "import numpy as np\n",
    "\n",
    "from sklearn.model_selection import train_test_split\n",
    "from sklearn.preprocessing import MinMaxScaler\n",
    "\n",
    "from qiskit import BasicAer\n",
    "from qiskit.circuit.library import ZFeatureMap\n",
    "from qiskit.utils import algorithm_globals\n",
    "\n",
    "from qiskit_ibm_provider import IBMProvider\n",
    "\n",
    "from qiskit_machine_learning.kernels import QuantumKernel\n",
    "\n",
    "from qiskit_machine_learning.algorithms import QSVR"
   ]
  },
  {
   "cell_type": "code",
   "execution_count": null,
   "id": "c5ddd64d-f823-43c6-a94e-8add9d89db07",
   "metadata": {},
   "outputs": [],
   "source": [
    "from sklearn.datasets import make_blobs\n",
    "import pandas as pd\n",
    "import numpy as np\n",
    "import seaborn as sns\n",
    "import matplotlib.pyplot as plt\n",
    "import numpy as np\n",
    "import pandas as pd\n",
    "import matplotlib.pyplot as plt\n",
    "from scipy import stats\n",
    "import numpy as np\n",
    "\n",
    "from sklearn.model_selection import train_test_split\n",
    "from sklearn.preprocessing import MinMaxScaler\n",
    "\n",
    "from qiskit import BasicAer\n",
    "from qiskit.circuit.library import ZFeatureMap\n",
    "from qiskit.utils import algorithm_globals\n",
    "\n",
    "from qiskit_ibm_provider import IBMProvider\n",
    "\n",
    "from qiskit_machine_learning.kernels import QuantumKernel\n",
    "\n",
    "from qiskit_machine_learning.algorithms import QSVR\n",
    "\n",
    "#---------------#\n",
    "\n",
    "df = pd.read_csv(\"powerconsumption.csv\")\n",
    "\n",
    "\n",
    "features = df.iloc[:,0:]\n",
    "labels = df.iloc[:,-1]\n",
    "\n",
    "features.drop(['Datetime', 'PowerConsumption_Zone1','PowerConsumption_Zone2', 'PowerConsumption_Zone3'], axis=1, inplace=True)\n",
    "\n",
    "\n",
    "#---------#\n",
    "\n",
    "features = features[0:300]\n",
    "labels = labels[0:300]\n",
    "\n",
    "train_features, test_features, train_labels, test_labels = train_test_split(features, labels, test_size=0.20, random_state=42)\n",
    "\n",
    "#------------#\n",
    "\n",
    "from qiskit import BasicAer\n",
    "from qiskit.circuit.library import ZFeatureMap\n",
    "from qiskit.utils import algorithm_globals\n",
    "from qiskit_machine_learning.kernels import FidelityQuantumKernel"
   ]
  },
  {
   "cell_type": "code",
   "execution_count": 39,
   "id": "29a47835-ec2d-4fe7-b007-6c2cdbe33a49",
   "metadata": {},
   "outputs": [],
   "source": [
    "df = pd.read_csv(\"powerconsumption.csv\")\n",
    "\n",
    "\n",
    "features = df.iloc[:,0:]\n",
    "labels = df.iloc[:,-1]\n",
    "\n",
    "features.drop(['Datetime', 'PowerConsumption_Zone1','PowerConsumption_Zone2', 'PowerConsumption_Zone3'], axis=1, inplace=True)\n",
    "\n",
    "\n"
   ]
  },
  {
   "cell_type": "code",
   "execution_count": 40,
   "id": "4a357bae-aa48-43d9-96d2-1b3c5bf267ec",
   "metadata": {},
   "outputs": [],
   "source": [
    "features = features[0:300]\n",
    "labels = labels[0:300]\n",
    "\n",
    "train_features, test_features, train_labels, test_labels = train_test_split(features, labels, test_size=0.20, random_state=42)"
   ]
  },
  {
   "cell_type": "code",
   "execution_count": 41,
   "id": "c485b823-8deb-4bf0-8867-c60b6a7347e0",
   "metadata": {},
   "outputs": [
    {
     "name": "stdout",
     "output_type": "stream",
     "text": [
      "(240, 5)\n",
      "(60, 5)\n",
      "(240,)\n",
      "(60,)\n"
     ]
    }
   ],
   "source": [
    "print(train_features.shape)\n",
    "print(test_features.shape)\n",
    "print(train_labels.shape)\n",
    "print(test_labels.shape)"
   ]
  },
  {
   "cell_type": "code",
   "execution_count": 42,
   "id": "bd1ae706-f26e-4596-9436-79aa3371ffd6",
   "metadata": {},
   "outputs": [
    {
     "data": {
      "text/html": [
       "<div>\n",
       "<style scoped>\n",
       "    .dataframe tbody tr th:only-of-type {\n",
       "        vertical-align: middle;\n",
       "    }\n",
       "\n",
       "    .dataframe tbody tr th {\n",
       "        vertical-align: top;\n",
       "    }\n",
       "\n",
       "    .dataframe thead th {\n",
       "        text-align: right;\n",
       "    }\n",
       "</style>\n",
       "<table border=\"1\" class=\"dataframe\">\n",
       "  <thead>\n",
       "    <tr style=\"text-align: right;\">\n",
       "      <th></th>\n",
       "      <th>Temperature</th>\n",
       "      <th>Humidity</th>\n",
       "      <th>WindSpeed</th>\n",
       "      <th>GeneralDiffuseFlows</th>\n",
       "      <th>DiffuseFlows</th>\n",
       "    </tr>\n",
       "  </thead>\n",
       "  <tbody>\n",
       "    <tr>\n",
       "      <th>0</th>\n",
       "      <td>6.559</td>\n",
       "      <td>73.8</td>\n",
       "      <td>0.083</td>\n",
       "      <td>0.051</td>\n",
       "      <td>0.119</td>\n",
       "    </tr>\n",
       "    <tr>\n",
       "      <th>1</th>\n",
       "      <td>6.414</td>\n",
       "      <td>74.5</td>\n",
       "      <td>0.083</td>\n",
       "      <td>0.070</td>\n",
       "      <td>0.085</td>\n",
       "    </tr>\n",
       "    <tr>\n",
       "      <th>2</th>\n",
       "      <td>6.313</td>\n",
       "      <td>74.5</td>\n",
       "      <td>0.080</td>\n",
       "      <td>0.062</td>\n",
       "      <td>0.100</td>\n",
       "    </tr>\n",
       "    <tr>\n",
       "      <th>3</th>\n",
       "      <td>6.121</td>\n",
       "      <td>75.0</td>\n",
       "      <td>0.083</td>\n",
       "      <td>0.091</td>\n",
       "      <td>0.096</td>\n",
       "    </tr>\n",
       "    <tr>\n",
       "      <th>4</th>\n",
       "      <td>5.921</td>\n",
       "      <td>75.7</td>\n",
       "      <td>0.081</td>\n",
       "      <td>0.048</td>\n",
       "      <td>0.085</td>\n",
       "    </tr>\n",
       "    <tr>\n",
       "      <th>...</th>\n",
       "      <td>...</td>\n",
       "      <td>...</td>\n",
       "      <td>...</td>\n",
       "      <td>...</td>\n",
       "      <td>...</td>\n",
       "    </tr>\n",
       "    <tr>\n",
       "      <th>295</th>\n",
       "      <td>12.390</td>\n",
       "      <td>71.0</td>\n",
       "      <td>0.078</td>\n",
       "      <td>0.062</td>\n",
       "      <td>0.148</td>\n",
       "    </tr>\n",
       "    <tr>\n",
       "      <th>296</th>\n",
       "      <td>12.420</td>\n",
       "      <td>71.4</td>\n",
       "      <td>0.077</td>\n",
       "      <td>0.059</td>\n",
       "      <td>0.159</td>\n",
       "    </tr>\n",
       "    <tr>\n",
       "      <th>297</th>\n",
       "      <td>12.400</td>\n",
       "      <td>71.5</td>\n",
       "      <td>0.075</td>\n",
       "      <td>0.062</td>\n",
       "      <td>0.156</td>\n",
       "    </tr>\n",
       "    <tr>\n",
       "      <th>298</th>\n",
       "      <td>11.840</td>\n",
       "      <td>73.4</td>\n",
       "      <td>0.079</td>\n",
       "      <td>0.073</td>\n",
       "      <td>0.152</td>\n",
       "    </tr>\n",
       "    <tr>\n",
       "      <th>299</th>\n",
       "      <td>11.510</td>\n",
       "      <td>73.0</td>\n",
       "      <td>0.076</td>\n",
       "      <td>0.044</td>\n",
       "      <td>0.148</td>\n",
       "    </tr>\n",
       "  </tbody>\n",
       "</table>\n",
       "<p>300 rows × 5 columns</p>\n",
       "</div>"
      ],
      "text/plain": [
       "     Temperature  Humidity  WindSpeed  GeneralDiffuseFlows  DiffuseFlows\n",
       "0          6.559      73.8      0.083                0.051         0.119\n",
       "1          6.414      74.5      0.083                0.070         0.085\n",
       "2          6.313      74.5      0.080                0.062         0.100\n",
       "3          6.121      75.0      0.083                0.091         0.096\n",
       "4          5.921      75.7      0.081                0.048         0.085\n",
       "..           ...       ...        ...                  ...           ...\n",
       "295       12.390      71.0      0.078                0.062         0.148\n",
       "296       12.420      71.4      0.077                0.059         0.159\n",
       "297       12.400      71.5      0.075                0.062         0.156\n",
       "298       11.840      73.4      0.079                0.073         0.152\n",
       "299       11.510      73.0      0.076                0.044         0.148\n",
       "\n",
       "[300 rows x 5 columns]"
      ]
     },
     "execution_count": 42,
     "metadata": {},
     "output_type": "execute_result"
    }
   ],
   "source": [
    "features"
   ]
  },
  {
   "cell_type": "code",
   "execution_count": 43,
   "id": "1ceba2fb-5425-46e5-84a9-96cce2b866e6",
   "metadata": {},
   "outputs": [
    {
     "data": {
      "text/plain": [
       "0      20240.96386\n",
       "1      20131.08434\n",
       "2      19668.43373\n",
       "3      18899.27711\n",
       "4      18442.40964\n",
       "          ...     \n",
       "295    15498.79518\n",
       "296    15146.02410\n",
       "297    14972.53012\n",
       "298    14943.61446\n",
       "299    14862.65060\n",
       "Name: PowerConsumption_Zone3, Length: 300, dtype: float64"
      ]
     },
     "execution_count": 43,
     "metadata": {},
     "output_type": "execute_result"
    }
   ],
   "source": [
    "labels"
   ]
  },
  {
   "cell_type": "code",
   "execution_count": 44,
   "id": "6a2b5196-623e-4a0c-a627-1674c2b2c5ea",
   "metadata": {},
   "outputs": [],
   "source": [
    "from qiskit import BasicAer\n",
    "from qiskit.circuit.library import ZFeatureMap\n",
    "from qiskit.utils import algorithm_globals\n",
    "from qiskit_machine_learning.kernels import FidelityQuantumKernel"
   ]
  },
  {
   "cell_type": "code",
   "execution_count": 45,
   "id": "2a381fcf-b3e0-46d9-bb76-3c8f1eb6f981",
   "metadata": {},
   "outputs": [
    {
     "name": "stdout",
     "output_type": "stream",
     "text": [
      "Started Training\n",
      "Finished Training\n",
      "Started Scoring\n",
      "train:  0.8121731915051269\n",
      "test:  0.6540340803956208\n"
     ]
    }
   ],
   "source": [
    "\n",
    "\n",
    "from sklearn.preprocessing import StandardScaler\n",
    "# Scale the features using StandardScaler\n",
    "scaler = StandardScaler()\n",
    "train_features_scaled = scaler.fit_transform(train_features)\n",
    "test_features_scaled = scaler.transform(test_features)\n",
    "\n",
    "# number of qubits is equal to the number of features\n",
    "num_qubits = 5\n",
    "\n",
    "# number of steps performed during the training procedure\n",
    "tau = 1\n",
    "\n",
    "# regularization parameter\n",
    "C = 1000\n",
    "\n",
    "feature_map = ZFeatureMap(feature_dimension=num_qubits, reps=1)\n",
    "qkernel = FidelityQuantumKernel(feature_map=feature_map)\n",
    "\n",
    "print(\"Started Training\")\n",
    "\n",
    "qsvr = QSVR(quantum_kernel=qkernel, C=C)\n",
    "\n",
    "# training\n",
    "qsvr.fit(train_features_scaled, train_labels)\n",
    "print(\"Finished Training\")\n",
    "\n",
    "# score = qsvr.score(test_features_scaled, test_labels)\n",
    "print(\"Started Scoring\")\n",
    "score_train = qsvr.score(train_features_scaled, train_labels)\n",
    "score_test = qsvr.score(test_features_scaled, test_labels)\n",
    "print(\"train: \", score_train)\n",
    "print(\"test: \", score_test)\n"
   ]
  },
  {
   "cell_type": "code",
   "execution_count": 46,
   "id": "9075d4fa-b1e8-4d63-b2a0-01bfde512104",
   "metadata": {},
   "outputs": [
    {
     "ename": "TypeError",
     "evalue": "set_params() takes 1 positional argument but 2 were given",
     "output_type": "error",
     "traceback": [
      "\u001b[0;31m---------------------------------------------------------------------------\u001b[0m",
      "\u001b[0;31mTypeError\u001b[0m                                 Traceback (most recent call last)",
      "Cell \u001b[0;32mIn[46], line 3\u001b[0m\n\u001b[1;32m      1\u001b[0m \u001b[38;5;28mdict\u001b[39m \u001b[38;5;241m=\u001b[39m qsvr\u001b[38;5;241m.\u001b[39mget_params()\n\u001b[1;32m      2\u001b[0m qsvr_loaded \u001b[38;5;241m=\u001b[39m QSVR(quantum_kernel\u001b[38;5;241m=\u001b[39mqkernel, C\u001b[38;5;241m=\u001b[39mC)\n\u001b[0;32m----> 3\u001b[0m \u001b[43mqsvr_loaded\u001b[49m\u001b[38;5;241;43m.\u001b[39;49m\u001b[43mset_params\u001b[49m\u001b[43m(\u001b[49m\u001b[38;5;28;43mdict\u001b[39;49m\u001b[43m)\u001b[49m\n",
      "\u001b[0;31mTypeError\u001b[0m: set_params() takes 1 positional argument but 2 were given"
     ]
    }
   ],
   "source": [
    "dict = qsvr.get_params()\n",
    "qsvr_loaded = QSVR(quantum_kernel=qkernel, C=C)\n",
    "qsvr_loaded.set_params(dict)"
   ]
  },
  {
   "cell_type": "code",
   "execution_count": 7,
   "id": "345f4a4d-af89-4b24-8f66-99dbaff49e49",
   "metadata": {},
   "outputs": [],
   "source": [
    "# number of qubits is equal to the number of features\n",
    "num_qubits = 5\n",
    "\n",
    "# number of steps performed during the training procedure\n",
    "tau = 1\n",
    "\n",
    "# regularization parameter\n",
    "C = 1000\n",
    "\n",
    "feature_map = ZFeatureMap(feature_dimension=num_qubits, reps=1)\n",
    "qkernel = FidelityQuantumKernel(feature_map=feature_map)"
   ]
  },
  {
   "cell_type": "code",
   "execution_count": 8,
   "id": "f06a56e7-bc25-4120-98a4-7e5670a300d0",
   "metadata": {},
   "outputs": [
    {
     "name": "stdout",
     "output_type": "stream",
     "text": [
      "Started Training\n",
      "(60, 5)\n",
      "(60,)\n",
      "Finished Training\n",
      "Started Validating\n",
      "Started Scoring\n",
      "-0.180359846335018\n",
      "Finished Scoring\n"
     ]
    },
    {
     "ename": "ModuleNotFoundError",
     "evalue": "No module named 'torch'",
     "output_type": "error",
     "traceback": [
      "\u001b[0;31m---------------------------------------------------------------------------\u001b[0m",
      "\u001b[0;31mModuleNotFoundError\u001b[0m                       Traceback (most recent call last)",
      "Cell \u001b[0;32mIn[8], line 31\u001b[0m\n\u001b[1;32m     28\u001b[0m plt\u001b[38;5;241m.\u001b[39mlegend(loc\u001b[38;5;241m=\u001b[39m\u001b[38;5;124m\"\u001b[39m\u001b[38;5;124mupper left\u001b[39m\u001b[38;5;124m\"\u001b[39m)\n\u001b[1;32m     30\u001b[0m \u001b[38;5;28;01mimport\u001b[39;00m \u001b[38;5;21;01mjson\u001b[39;00m\n\u001b[0;32m---> 31\u001b[0m \u001b[38;5;28;01mimport\u001b[39;00m \u001b[38;5;21;01mtorch\u001b[39;00m\n\u001b[1;32m     33\u001b[0m \u001b[38;5;66;03m# Define your model and train it\u001b[39;00m\n\u001b[1;32m     34\u001b[0m \n\u001b[1;32m     35\u001b[0m \u001b[38;5;66;03m# Save the model's parameters to a dictionary\u001b[39;00m\n\u001b[1;32m     36\u001b[0m model_dict \u001b[38;5;241m=\u001b[39m qsvr\u001b[38;5;241m.\u001b[39mstate_dict()\n",
      "\u001b[0;31mModuleNotFoundError\u001b[0m: No module named 'torch'"
     ]
    },
    {
     "data": {
      "image/png": "[encoded data removed]",
      "text/plain": [
       "<Figure size 1000x1000 with 1 Axes>"
      ]
     },
     "metadata": {},
     "output_type": "display_data"
    }
   ],
   "source": [
    "print(\"Started Training\")\n",
    "\n",
    "qsvr = QSVR(quantum_kernel=qkernel, C=C)\n",
    "\n",
    "print(test_features.shape);\n",
    "print(test_labels.shape);\n",
    "\n",
    "# training\n",
    "qsvr.fit(train_features, train_labels)\n",
    "print(\"Finished Training\")\n",
    "\n",
    "print(\"Started Validating\")\n",
    "\n",
    "# score = qsvr.score(test_features, test_labels)\n",
    "print(\"Started Scoring\")\n",
    "score = qsvr.score(test_features, test_labels)\n",
    "print(score)\n",
    "print(\"Finished Scoring\")\n",
    "\n",
    "predict = qsvr.predict(test_features)\n",
    "\n",
    "import json\n",
    "import torch\n",
    "\n",
    "# Define your model and train it\n",
    "\n",
    "# Save the model's parameters to a dictionary\n",
    "model_dict = qsvr.state_dict()\n",
    "\n",
    "# Save the dictionary to a JSON file\n",
    "with open('model_params.json', 'w') as f:\n",
    "    json.dump(model_dict, f)\n"
   ]
  },
  {
   "cell_type": "code",
   "execution_count": null,
   "id": "1b2c99b6-4a04-4a1a-b600-0763a5afbb8d",
   "metadata": {},
   "outputs": [],
   "source": []
  },
  {
   "cell_type": "code",
   "execution_count": null,
   "id": "9c6180ed-74de-49c7-aae3-bbf1d1022090",
   "metadata": {},
   "outputs": [],
   "source": [
    "test_features"
   ]
  },
  {
   "cell_type": "code",
   "execution_count": null,
   "id": "e6b08c74-bde0-4c35-9222-bc871cdc1c4a",
   "metadata": {},
   "outputs": [],
   "source": []
  },
  {
   "cell_type": "code",
   "execution_count": null,
   "id": "522465cb-5d5d-4688-b691-9f0f78480e7b",
   "metadata": {},
   "outputs": [],
   "source": [
    "import matplotlib.pyplot as plt\n",
    "from mpl_toolkits.mplot3d import Axes3D\n",
    "\n",
    "# Create 3D figure\n",
    "fig = plt.figure(figsize=(10, 8))\n",
    "ax = fig.add_subplot(111, projection='3d')\n",
    "\n",
    "# Plot Temperature vs. Humidity\n",
    "ax.scatter(test_features['Temperature'], test_features['WindSpeed'], test_labels)\n",
    "\n",
    "# Set axis labels and title\n",
    "ax.set_xlabel('Temperature')\n",
    "ax.set_ylabel('Humidity')\n",
    "ax.set_zlabel('Labels')\n",
    "ax.set_title('Temperature vs. Humidity vs. Labels')\n",
    "\n",
    "# Show the plot\n",
    "plt.show()"
   ]
  }
 ],
 "metadata": {
  "kernelspec": {
   "display_name": "Python 3 [Default]",
   "language": "python",
   "name": "python3"
  },
  "language_info": {
   "codemirror_mode": {
    "name": "ipython",
    "version": 3
   },
   "file_extension": ".py",
   "mimetype": "text/x-python",
   "name": "python",
   "nbconvert_exporter": "python",
   "pygments_lexer": "ipython3",
   "version": "3.9.10"
  }
 },
 "nbformat": 4,
 "nbformat_minor": 5
}
